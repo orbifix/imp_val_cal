{
 "cells": [
  {
   "cell_type": "markdown",
   "metadata": {},
   "source": [
    "**Note**\n",
    "This notebook is not heading towards any particular data analysis problem. Its main goal is to give a feel for ipython technology, pandas powerful and easy to wrok libraries. "
   ]
  },
  {
   "cell_type": "code",
   "execution_count": 2,
   "metadata": {
    "collapsed": false
   },
   "outputs": [
    {
     "name": "stdout",
     "output_type": "stream",
     "text": [
      "<bound method NDFrame.head of                  Open       High        Low      Close    Volume  Adj Close\n",
      "Date                                                                       \n",
      "2010-01-04  68.720001  69.260002  68.190002  69.150002  27809100  58.175683\n",
      "2010-01-05  69.190002  69.449997  68.800003  69.419998  30174700  58.402830\n",
      "2010-01-06  69.449997  70.599998  69.339996  70.019997  35044700  58.907607\n",
      "2010-01-07  69.900002  70.059998  69.419998  69.800003  27192100  58.722527\n",
      "2010-01-08  69.690002  69.750000  69.220001  69.519997  24891800  58.486958\n",
      "2010-01-11  69.940002  70.519997  69.650002  70.300003  30685000  59.143175\n",
      "2010-01-12  69.720001  69.989998  69.519997  69.949997  31496700  58.848716\n",
      "2010-01-13  69.959999  70.040001  69.260002  69.669998  24884400  58.613154\n",
      "2010-01-14  69.540001  69.739998  69.349998  69.680000  18630800  58.621569\n",
      "2010-01-15  69.650002  69.690002  68.650002  69.110001  29411900  58.142030\n",
      "2010-01-19  68.739998  69.349998  68.419998  69.269997  26081900  58.276634\n",
      "2010-01-20  68.559998  68.660004  67.930000  68.029999  34629500  57.233428\n",
      "2010-01-21  68.120003  68.150002  66.500000  66.699997  39114000  56.114501\n",
      "2010-01-22  66.519997  67.139999  66.000000  66.099998  39085500  55.609725\n",
      "2010-01-25  66.550003  66.760002  65.690002  65.849998  29305100  55.399400\n",
      "2010-01-26  65.639999  66.739998  65.500000  65.919998  34083300  55.458291\n",
      "2010-01-27  65.660004  66.059998  65.000000  65.540001  35723500  55.138600\n",
      "2010-01-28  65.849998  65.849998  64.570000  64.959999  37349800  54.650647\n",
      "2010-01-29  65.150002  65.820000  64.019997  64.430000  40880500  54.204760\n",
      "2010-02-01  65.769997  66.410004  65.349998  66.180000  37703000  55.677030\n",
      "2010-02-02  66.730003  67.120003  66.470001  66.959999  34057900  56.333240\n",
      "2010-02-03  66.879997  67.230003  66.559998  66.599998  24024700  56.030373\n",
      "2010-02-04  66.269997  66.349998  64.680000  64.720001  33858200  54.448737\n",
      "2010-02-05  64.699997  64.900002  63.560001  64.800003  42297500  54.516042\n",
      "2010-02-08  64.910004  65.489998  64.339996  64.349998  30519400  54.490633\n",
      "2010-02-09  65.110001  65.709999  64.559998  65.199997  36243300  55.210399\n",
      "2010-02-10  65.080002  65.220001  64.160004  64.849998  21699100  54.914026\n",
      "2010-02-11  64.690002  65.480003  64.410004  65.239998  23555200  55.244272\n",
      "2010-02-12  64.620003  65.139999  64.279999  64.800003  30636200  54.871690\n",
      "2010-02-16  65.440002  66.379997  65.080002  66.279999  30514900  56.124929\n",
      "...               ...        ...        ...        ...       ...        ...\n",
      "2015-11-18  79.889999  80.900002  79.589996  80.739998  10884600  80.013776\n",
      "2015-11-19  80.510002  80.779999  80.040001  80.300003   9453300  79.577738\n",
      "2015-11-20  80.570000  80.940002  79.650002  79.790001  10144400  79.072323\n",
      "2015-11-23  79.599998  80.709999  79.059998  80.279999  11868400  79.557914\n",
      "2015-11-24  80.349998  82.349998  80.199997  81.879997  15055500  81.143521\n",
      "2015-11-25  81.300003  82.169998  81.099998  81.250000   8980400  80.519190\n",
      "2015-11-27  80.580002  81.260002  80.459999  81.230003   4156600  80.499374\n",
      "2015-11-30  81.419998  82.650002  81.250000  81.660004  17729200  80.925506\n",
      "2015-12-01  81.760002  82.129997  81.269997  81.889999  13917000  81.153433\n",
      "2015-12-02  81.309998  81.639999  79.419998  79.550003  16300000  78.834484\n",
      "2015-12-03  79.720001  79.849998  78.019997  78.410004  14870300  77.704739\n",
      "2015-12-04  77.349998  78.980003  77.029999  78.860001  20156400  78.150688\n",
      "2015-12-07  77.330002  77.500000  75.750000  76.800003  17676100  76.109219\n",
      "2015-12-08  75.269997  76.349998  73.790001  74.629997  24217600  73.958732\n",
      "2015-12-09  74.839996  77.190002  74.730003  75.629997  22036300  74.949737\n",
      "2015-12-10  75.800003  77.500000  75.519997  75.690002  20142400  75.009203\n",
      "2015-12-11  74.820000  75.540001  74.339996  74.339996  20473100  73.671339\n",
      "2015-12-14  74.300003  76.220001  74.089996  76.029999  21976500  75.346141\n",
      "2015-12-15  77.430000  79.599998  77.330002  79.430000  24344700  78.715561\n",
      "2015-12-16  79.040001  79.610001  78.000000  79.150002  17233900  78.438081\n",
      "2015-12-17  79.019997  79.230003  77.949997  77.959999  17362900  77.258782\n",
      "2015-12-18  77.570000  78.779999  77.059998  77.279999  28836000  76.584898\n",
      "2015-12-21  77.790001  78.099998  76.650002  77.260002  14460500  76.565081\n",
      "2015-12-22  77.699997  77.900002  77.209999  77.650002  13855800  76.951572\n",
      "2015-12-23  78.680000  80.220001  78.320000  80.190002  15184200  79.468727\n",
      "2015-12-24  80.269997  80.269997  79.120003  79.330002   5848300  78.616462\n",
      "2015-12-28  78.120003  78.860001  77.910004  78.739998   9715800  78.031765\n",
      "2015-12-29  79.989998  80.080002  78.839996  79.160004   8839000  78.447993\n",
      "2015-12-30  78.320000  78.989998  77.970001  78.110001   9314600  77.407434\n",
      "2015-12-31  77.510002  78.440002  77.430000  77.949997  10285500  77.248870\n",
      "\n",
      "[1510 rows x 6 columns]>\n"
     ]
    },
    {
     "data": {
      "text/plain": [
       "<function matplotlib.pyplot.show>"
      ]
     },
     "execution_count": 2,
     "metadata": {},
     "output_type": "execute_result"
    },
    {
     "data": {
      "image/png": "[encoded data removed]",
      "text/plain": [
       "<matplotlib.figure.Figure at 0x11f54165208>"
      ]
     },
     "metadata": {},
     "output_type": "display_data"
    }
   ],
   "source": [
    "# Suppose you are curious housing of past decades, accoring to Yahoo. Lets grab it!\n",
    "%matplotlib inline\n",
    "import numpy as np\n",
    "import pandas as pd\n",
    "import datetime\n",
    "import pandas.io.data as web\n",
    "import matplotlib.pyplot  as plt\n",
    "from matplotlib import style\n",
    "style.use('ggplot')\n",
    "\n",
    "start = datetime.datetime(2010,1,1)\n",
    "end = datetime.datetime(2016,1,1)\n",
    "\n",
    "df = web.DataReader(\"XOM\",\"yahoo\", start, end)\n",
    "print(df.head)\n",
    "df['Adj Close'].plot() # inline plotting of the last coloum with 0 hassle.\n",
    "plt.show\n"
   ]
  },
  {
   "cell_type": "code",
   "execution_count": 18,
   "metadata": {
    "collapsed": false
   },
   "outputs": [
    {
     "name": "stdout",
     "output_type": "stream",
     "text": [
      "   Bounce_Rate  Day  Visitors\n",
      "0           65    1        43\n",
      "1           72    2        53\n",
      "2           62    3        34\n",
      "3           64    4        45\n",
      "4           54    5        64\n",
      "5           66    6        34\n",
      "   Bounce_Rate  Day  Visitors\n",
      "0           65    1        43\n",
      "1           72    2        53\n",
      "2           62    3        34\n",
      "   Bounce_Rate  Day  Visitors\n",
      "4           54    5        64\n",
      "5           66    6        34\n"
     ]
    }
   ],
   "source": [
    "# Pandas ket structure is DataFrames. As a first approximation, similar to python dictionary, for example:\n",
    "web_stats = {'Day': [1,2,3,4,5,6],'Visitors':[43,53,34,45,64,34],'Bounce_Rate':[65,72,62,64,54,66]}\n",
    "df = pd.DataFrame(web_stats)\n",
    "print(df)\n",
    "print(df.head(3))\n",
    "print(df.tail(2))\n"
   ]
  },
  {
   "cell_type": "code",
   "execution_count": 19,
   "metadata": {
    "collapsed": false
   },
   "outputs": [
    {
     "name": "stdout",
     "output_type": "stream",
     "text": [
      "0    43\n",
      "1    53\n",
      "2    34\n",
      "3    45\n",
      "4    64\n",
      "5    34\n",
      "Name: Visitors, dtype: int64\n"
     ]
    }
   ],
   "source": [
    "print(df['Visitors'])"
   ]
  }
 ],
 "metadata": {
  "kernelspec": {
   "display_name": "Python 3",
   "language": "python",
   "name": "python3"
  },
  "language_info": {
   "codemirror_mode": {
    "name": "ipython",
    "version": 3
   },
   "file_extension": ".py",
   "mimetype": "text/x-python",
   "name": "python",
   "nbconvert_exporter": "python",
   "pygments_lexer": "ipython3",
   "version": "3.5.1"
  }
 },
 "nbformat": 4,
 "nbformat_minor": 0
}
